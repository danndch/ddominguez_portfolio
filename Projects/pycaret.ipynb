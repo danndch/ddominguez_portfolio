{
 "cells": [
  {
   "cell_type": "code",
   "execution_count": 4,
   "metadata": {},
   "outputs": [],
   "source": [
    "import pandas as pd\n",
    "import pyarrow as pa\n",
    "import pyarrow.parquet as pq\n",
    "\n",
    "import pycaret\n"
   ]
  },
  {
   "cell_type": "code",
   "execution_count": null,
   "metadata": {},
   "outputs": [
    {
     "ename": "",
     "evalue": "",
     "output_type": "error",
     "traceback": [
      "\u001b[1;31mFailed to start the Kernel. \n",
      "\u001b[1;31mUnable to start Kernel 'Python 3.10.11' due to a connection timeout. \n",
      "\u001b[1;31mView Jupyter <a href='command:jupyter.viewOutput'>log</a> for further details."
     ]
    }
   ],
   "source": [
    "koch = pd.read_csv(\"koch.csv\")"
   ]
  },
  {
   "cell_type": "code",
   "execution_count": 11,
   "metadata": {},
   "outputs": [],
   "source": [
    "# Convert all values to numeric, coercing errors to NaN\n",
    "koch['PLANNED_DELIVERY_DAYS'] = pd.to_numeric(koch['PLANNED_DELIVERY_DAYS'], errors='coerce')\n",
    "\n",
    "# Drop rows with NaN in 'PLANNED_DELIVERY_DAYS'\n",
    "koch.dropna(subset=['PLANNED_DELIVERY_DAYS'], inplace=True)\n",
    "\n",
    "# Optionally, convert 'PLANNED_DELIVERY_DAYS' to int if you're sure they're all integers\n",
    "koch['PLANNED_DELIVERY_DAYS'] = koch['PLANNED_DELIVERY_DAYS'].astype(int)"
   ]
  },
  {
   "cell_type": "code",
   "execution_count": 22,
   "metadata": {},
   "outputs": [],
   "source": [
    "koch['TARGET'] = koch['FIRST_GR_POSTING_DATE']-koch['DELIVERY_DATE']"
   ]
  },
  {
   "cell_type": "code",
   "execution_count": 24,
   "metadata": {},
   "outputs": [
    {
     "data": {
      "text/plain": [
       "Index(['Unnamed: 0', 'PURCHASE_DOCUMENT_ID', 'CREATE_DATE', 'COMPANY_CODE_ID',\n",
       "       'VENDOR_ID', 'POSTAL_CD', 'RELEASE_DATE', 'PURCHASE_DOCUMENT_ITEM_ID',\n",
       "       'MATERIAL_ID', 'SUB_COMMODITY_DESC', 'MRP_TYPE_ID', 'MRP_TYPE_DESC_E',\n",
       "       'SHORT_TEXT', 'PLANT_ID', 'POR_DELIVERY_DATE', 'FIRST_GR_POSTING_DATE',\n",
       "       'DELIVERY_DATE', 'REQUESTED_DELIVERY_DATE', 'INBOUND_DELIVERY_ID',\n",
       "       'INBOUND_DELIVERY_ITEM_ID', 'PLANNED_DELIVERY_DAYS',\n",
       "       'BI_LAST_UPDATED_PURCHASE_DOCUMENT_ITEM', 'TARGET'],\n",
       "      dtype='object')"
      ]
     },
     "execution_count": 24,
     "metadata": {},
     "output_type": "execute_result"
    }
   ],
   "source": [
    "koch.columns"
   ]
  },
  {
   "cell_type": "code",
   "execution_count": 39,
   "metadata": {},
   "outputs": [],
   "source": [
    "koch1 = koch.filter(['PURCHASE_DOCUMENT_ID', 'CREATE_DATE', 'COMPANY_CODE_ID',\n",
    "       'VENDOR_ID', 'POSTAL_CD', 'RELEASE_DATE', 'PURCHASE_DOCUMENT_ITEM_ID',\n",
    "       'MATERIAL_ID', 'SUB_COMMODITY_DESC', 'MRP_TYPE_ID', 'MRP_TYPE_DESC_E',\n",
    "       'SHORT_TEXT', 'PLANT_ID', 'POR_DELIVERY_DATE', 'FIRST_GR_POSTING_DATE',\n",
    "       'DELIVERY_DATE', 'REQUESTED_DELIVERY_DATE', 'INBOUND_DELIVERY_ID',\n",
    "       'INBOUND_DELIVERY_ITEM_ID', 'PLANNED_DELIVERY_DAYS',\n",
    "       'BI_LAST_UPDATED_PURCHASE_DOCUMENT_ITEM', 'TARGET'])"
   ]
  },
  {
   "cell_type": "code",
   "execution_count": 40,
   "metadata": {},
   "outputs": [],
   "source": [
    "koch1 = koch1.dropna(subset=['TARGET','FIRST_GR_POSTING_DATE','DELIVERY_DATE'])\n"
   ]
  },
  {
   "cell_type": "code",
   "execution_count": 41,
   "metadata": {},
   "outputs": [
    {
     "data": {
      "text/html": [
       "<style type=\"text/css\">\n",
       "#T_a3c3c_row10_col1 {\n",
       "  background-color: lightgreen;\n",
       "}\n",
       "</style>\n",
       "<table id=\"T_a3c3c\">\n",
       "  <thead>\n",
       "    <tr>\n",
       "      <th class=\"blank level0\" >&nbsp;</th>\n",
       "      <th id=\"T_a3c3c_level0_col0\" class=\"col_heading level0 col0\" >Description</th>\n",
       "      <th id=\"T_a3c3c_level0_col1\" class=\"col_heading level0 col1\" >Value</th>\n",
       "    </tr>\n",
       "  </thead>\n",
       "  <tbody>\n",
       "    <tr>\n",
       "      <th id=\"T_a3c3c_level0_row0\" class=\"row_heading level0 row0\" >0</th>\n",
       "      <td id=\"T_a3c3c_row0_col0\" class=\"data row0 col0\" >Session id</td>\n",
       "      <td id=\"T_a3c3c_row0_col1\" class=\"data row0 col1\" >123</td>\n",
       "    </tr>\n",
       "    <tr>\n",
       "      <th id=\"T_a3c3c_level0_row1\" class=\"row_heading level0 row1\" >1</th>\n",
       "      <td id=\"T_a3c3c_row1_col0\" class=\"data row1 col0\" >Target</td>\n",
       "      <td id=\"T_a3c3c_row1_col1\" class=\"data row1 col1\" >TARGET</td>\n",
       "    </tr>\n",
       "    <tr>\n",
       "      <th id=\"T_a3c3c_level0_row2\" class=\"row_heading level0 row2\" >2</th>\n",
       "      <td id=\"T_a3c3c_row2_col0\" class=\"data row2 col0\" >Target type</td>\n",
       "      <td id=\"T_a3c3c_row2_col1\" class=\"data row2 col1\" >Regression</td>\n",
       "    </tr>\n",
       "    <tr>\n",
       "      <th id=\"T_a3c3c_level0_row3\" class=\"row_heading level0 row3\" >3</th>\n",
       "      <td id=\"T_a3c3c_row3_col0\" class=\"data row3 col0\" >Original data shape</td>\n",
       "      <td id=\"T_a3c3c_row3_col1\" class=\"data row3 col1\" >(1093752, 22)</td>\n",
       "    </tr>\n",
       "    <tr>\n",
       "      <th id=\"T_a3c3c_level0_row4\" class=\"row_heading level0 row4\" >4</th>\n",
       "      <td id=\"T_a3c3c_row4_col0\" class=\"data row4 col0\" >Transformed data shape</td>\n",
       "      <td id=\"T_a3c3c_row4_col1\" class=\"data row4 col1\" >(1093752, 22)</td>\n",
       "    </tr>\n",
       "    <tr>\n",
       "      <th id=\"T_a3c3c_level0_row5\" class=\"row_heading level0 row5\" >5</th>\n",
       "      <td id=\"T_a3c3c_row5_col0\" class=\"data row5 col0\" >Transformed train set shape</td>\n",
       "      <td id=\"T_a3c3c_row5_col1\" class=\"data row5 col1\" >(765626, 22)</td>\n",
       "    </tr>\n",
       "    <tr>\n",
       "      <th id=\"T_a3c3c_level0_row6\" class=\"row_heading level0 row6\" >6</th>\n",
       "      <td id=\"T_a3c3c_row6_col0\" class=\"data row6 col0\" >Transformed test set shape</td>\n",
       "      <td id=\"T_a3c3c_row6_col1\" class=\"data row6 col1\" >(328126, 22)</td>\n",
       "    </tr>\n",
       "    <tr>\n",
       "      <th id=\"T_a3c3c_level0_row7\" class=\"row_heading level0 row7\" >7</th>\n",
       "      <td id=\"T_a3c3c_row7_col0\" class=\"data row7 col0\" >Numeric features</td>\n",
       "      <td id=\"T_a3c3c_row7_col1\" class=\"data row7 col1\" >15</td>\n",
       "    </tr>\n",
       "    <tr>\n",
       "      <th id=\"T_a3c3c_level0_row8\" class=\"row_heading level0 row8\" >8</th>\n",
       "      <td id=\"T_a3c3c_row8_col0\" class=\"data row8 col0\" >Categorical features</td>\n",
       "      <td id=\"T_a3c3c_row8_col1\" class=\"data row8 col1\" >6</td>\n",
       "    </tr>\n",
       "    <tr>\n",
       "      <th id=\"T_a3c3c_level0_row9\" class=\"row_heading level0 row9\" >9</th>\n",
       "      <td id=\"T_a3c3c_row9_col0\" class=\"data row9 col0\" >Rows with missing values</td>\n",
       "      <td id=\"T_a3c3c_row9_col1\" class=\"data row9 col1\" >99.9%</td>\n",
       "    </tr>\n",
       "    <tr>\n",
       "      <th id=\"T_a3c3c_level0_row10\" class=\"row_heading level0 row10\" >10</th>\n",
       "      <td id=\"T_a3c3c_row10_col0\" class=\"data row10 col0\" >Preprocess</td>\n",
       "      <td id=\"T_a3c3c_row10_col1\" class=\"data row10 col1\" >True</td>\n",
       "    </tr>\n",
       "    <tr>\n",
       "      <th id=\"T_a3c3c_level0_row11\" class=\"row_heading level0 row11\" >11</th>\n",
       "      <td id=\"T_a3c3c_row11_col0\" class=\"data row11 col0\" >Imputation type</td>\n",
       "      <td id=\"T_a3c3c_row11_col1\" class=\"data row11 col1\" >simple</td>\n",
       "    </tr>\n",
       "    <tr>\n",
       "      <th id=\"T_a3c3c_level0_row12\" class=\"row_heading level0 row12\" >12</th>\n",
       "      <td id=\"T_a3c3c_row12_col0\" class=\"data row12 col0\" >Numeric imputation</td>\n",
       "      <td id=\"T_a3c3c_row12_col1\" class=\"data row12 col1\" >mean</td>\n",
       "    </tr>\n",
       "    <tr>\n",
       "      <th id=\"T_a3c3c_level0_row13\" class=\"row_heading level0 row13\" >13</th>\n",
       "      <td id=\"T_a3c3c_row13_col0\" class=\"data row13 col0\" >Categorical imputation</td>\n",
       "      <td id=\"T_a3c3c_row13_col1\" class=\"data row13 col1\" >mode</td>\n",
       "    </tr>\n",
       "    <tr>\n",
       "      <th id=\"T_a3c3c_level0_row14\" class=\"row_heading level0 row14\" >14</th>\n",
       "      <td id=\"T_a3c3c_row14_col0\" class=\"data row14 col0\" >Maximum one-hot encoding</td>\n",
       "      <td id=\"T_a3c3c_row14_col1\" class=\"data row14 col1\" >25</td>\n",
       "    </tr>\n",
       "    <tr>\n",
       "      <th id=\"T_a3c3c_level0_row15\" class=\"row_heading level0 row15\" >15</th>\n",
       "      <td id=\"T_a3c3c_row15_col0\" class=\"data row15 col0\" >Encoding method</td>\n",
       "      <td id=\"T_a3c3c_row15_col1\" class=\"data row15 col1\" >None</td>\n",
       "    </tr>\n",
       "    <tr>\n",
       "      <th id=\"T_a3c3c_level0_row16\" class=\"row_heading level0 row16\" >16</th>\n",
       "      <td id=\"T_a3c3c_row16_col0\" class=\"data row16 col0\" >Fold Generator</td>\n",
       "      <td id=\"T_a3c3c_row16_col1\" class=\"data row16 col1\" >KFold</td>\n",
       "    </tr>\n",
       "    <tr>\n",
       "      <th id=\"T_a3c3c_level0_row17\" class=\"row_heading level0 row17\" >17</th>\n",
       "      <td id=\"T_a3c3c_row17_col0\" class=\"data row17 col0\" >Fold Number</td>\n",
       "      <td id=\"T_a3c3c_row17_col1\" class=\"data row17 col1\" >10</td>\n",
       "    </tr>\n",
       "    <tr>\n",
       "      <th id=\"T_a3c3c_level0_row18\" class=\"row_heading level0 row18\" >18</th>\n",
       "      <td id=\"T_a3c3c_row18_col0\" class=\"data row18 col0\" >CPU Jobs</td>\n",
       "      <td id=\"T_a3c3c_row18_col1\" class=\"data row18 col1\" >-1</td>\n",
       "    </tr>\n",
       "    <tr>\n",
       "      <th id=\"T_a3c3c_level0_row19\" class=\"row_heading level0 row19\" >19</th>\n",
       "      <td id=\"T_a3c3c_row19_col0\" class=\"data row19 col0\" >Use GPU</td>\n",
       "      <td id=\"T_a3c3c_row19_col1\" class=\"data row19 col1\" >False</td>\n",
       "    </tr>\n",
       "    <tr>\n",
       "      <th id=\"T_a3c3c_level0_row20\" class=\"row_heading level0 row20\" >20</th>\n",
       "      <td id=\"T_a3c3c_row20_col0\" class=\"data row20 col0\" >Log Experiment</td>\n",
       "      <td id=\"T_a3c3c_row20_col1\" class=\"data row20 col1\" >False</td>\n",
       "    </tr>\n",
       "    <tr>\n",
       "      <th id=\"T_a3c3c_level0_row21\" class=\"row_heading level0 row21\" >21</th>\n",
       "      <td id=\"T_a3c3c_row21_col0\" class=\"data row21 col0\" >Experiment Name</td>\n",
       "      <td id=\"T_a3c3c_row21_col1\" class=\"data row21 col1\" >reg-default-name</td>\n",
       "    </tr>\n",
       "    <tr>\n",
       "      <th id=\"T_a3c3c_level0_row22\" class=\"row_heading level0 row22\" >22</th>\n",
       "      <td id=\"T_a3c3c_row22_col0\" class=\"data row22 col0\" >USI</td>\n",
       "      <td id=\"T_a3c3c_row22_col1\" class=\"data row22 col1\" >0f34</td>\n",
       "    </tr>\n",
       "  </tbody>\n",
       "</table>\n"
      ],
      "text/plain": [
       "<pandas.io.formats.style.Styler at 0x1e845e8d630>"
      ]
     },
     "metadata": {},
     "output_type": "display_data"
    }
   ],
   "source": [
    "from pycaret.regression import *\n",
    "\n",
    "# Assuming 'koch' is your DataFrame and 'TARGET' is your continuous target variable\n",
    "s = setup(koch1, target='TARGET', session_id=123)\n"
   ]
  },
  {
   "cell_type": "code",
   "execution_count": 42,
   "metadata": {},
   "outputs": [
    {
     "data": {
      "text/html": [
       "<div>\n",
       "<style scoped>\n",
       "    .dataframe tbody tr th:only-of-type {\n",
       "        vertical-align: middle;\n",
       "    }\n",
       "\n",
       "    .dataframe tbody tr th {\n",
       "        vertical-align: top;\n",
       "    }\n",
       "\n",
       "    .dataframe thead th {\n",
       "        text-align: right;\n",
       "    }\n",
       "</style>\n",
       "<table border=\"1\" class=\"dataframe\">\n",
       "  <thead>\n",
       "    <tr style=\"text-align: right;\">\n",
       "      <th></th>\n",
       "      <th></th>\n",
       "      <th></th>\n",
       "    </tr>\n",
       "    <tr>\n",
       "      <th></th>\n",
       "      <th></th>\n",
       "      <th></th>\n",
       "    </tr>\n",
       "  </thead>\n",
       "  <tbody>\n",
       "    <tr>\n",
       "      <th>Initiated</th>\n",
       "      <td>. . . . . . . . . . . . . . . . . .</td>\n",
       "      <td>11:25:22</td>\n",
       "    </tr>\n",
       "    <tr>\n",
       "      <th>Status</th>\n",
       "      <td>. . . . . . . . . . . . . . . . . .</td>\n",
       "      <td>Fitting 10 Folds</td>\n",
       "    </tr>\n",
       "    <tr>\n",
       "      <th>Estimator</th>\n",
       "      <td>. . . . . . . . . . . . . . . . . .</td>\n",
       "      <td>Random Forest Regressor</td>\n",
       "    </tr>\n",
       "  </tbody>\n",
       "</table>\n",
       "</div>"
      ],
      "text/plain": [
       "                                                                       \n",
       "                                                                       \n",
       "Initiated  . . . . . . . . . . . . . . . . . .                 11:25:22\n",
       "Status     . . . . . . . . . . . . . . . . . .         Fitting 10 Folds\n",
       "Estimator  . . . . . . . . . . . . . . . . . .  Random Forest Regressor"
      ]
     },
     "metadata": {},
     "output_type": "display_data"
    },
    {
     "data": {
      "text/html": [
       "<style type=\"text/css\">\n",
       "#T_639b1 th {\n",
       "  text-align: left;\n",
       "}\n",
       "#T_639b1_row0_col0, #T_639b1_row0_col1, #T_639b1_row0_col2, #T_639b1_row0_col3, #T_639b1_row0_col4, #T_639b1_row0_col5, #T_639b1_row0_col6, #T_639b1_row0_col7, #T_639b1_row1_col0, #T_639b1_row1_col1, #T_639b1_row1_col2, #T_639b1_row1_col3, #T_639b1_row1_col4, #T_639b1_row1_col5, #T_639b1_row1_col6, #T_639b1_row1_col7, #T_639b1_row2_col0, #T_639b1_row2_col1, #T_639b1_row2_col2, #T_639b1_row2_col3, #T_639b1_row2_col4, #T_639b1_row2_col5, #T_639b1_row2_col6, #T_639b1_row2_col7, #T_639b1_row3_col0, #T_639b1_row3_col1, #T_639b1_row3_col2, #T_639b1_row3_col3, #T_639b1_row3_col4, #T_639b1_row3_col5, #T_639b1_row3_col6, #T_639b1_row3_col7, #T_639b1_row4_col0, #T_639b1_row4_col1, #T_639b1_row4_col2, #T_639b1_row4_col3, #T_639b1_row4_col4, #T_639b1_row4_col5, #T_639b1_row4_col6, #T_639b1_row4_col7, #T_639b1_row5_col0, #T_639b1_row5_col1, #T_639b1_row5_col2, #T_639b1_row5_col3, #T_639b1_row5_col4, #T_639b1_row5_col5, #T_639b1_row5_col6, #T_639b1_row5_col7, #T_639b1_row6_col0, #T_639b1_row6_col1, #T_639b1_row6_col2, #T_639b1_row6_col3, #T_639b1_row6_col4, #T_639b1_row6_col5, #T_639b1_row6_col6, #T_639b1_row6_col7, #T_639b1_row7_col0, #T_639b1_row7_col1, #T_639b1_row7_col2, #T_639b1_row7_col3, #T_639b1_row7_col4, #T_639b1_row7_col5, #T_639b1_row7_col6, #T_639b1_row7_col7, #T_639b1_row8_col0, #T_639b1_row8_col1, #T_639b1_row8_col2, #T_639b1_row8_col3, #T_639b1_row8_col4, #T_639b1_row8_col5, #T_639b1_row8_col6, #T_639b1_row8_col7, #T_639b1_row9_col0, #T_639b1_row9_col1, #T_639b1_row9_col2, #T_639b1_row9_col3, #T_639b1_row9_col4, #T_639b1_row9_col5, #T_639b1_row9_col6, #T_639b1_row9_col7, #T_639b1_row10_col0, #T_639b1_row10_col1, #T_639b1_row10_col2, #T_639b1_row10_col3, #T_639b1_row10_col4, #T_639b1_row10_col5, #T_639b1_row10_col6, #T_639b1_row10_col7, #T_639b1_row11_col0, #T_639b1_row11_col1, #T_639b1_row11_col2, #T_639b1_row11_col3, #T_639b1_row11_col4, #T_639b1_row11_col5, #T_639b1_row11_col6, #T_639b1_row11_col7 {\n",
       "  text-align: left;\n",
       "}\n",
       "</style>\n",
       "<table id=\"T_639b1\">\n",
       "  <thead>\n",
       "    <tr>\n",
       "      <th class=\"blank level0\" >&nbsp;</th>\n",
       "      <th id=\"T_639b1_level0_col0\" class=\"col_heading level0 col0\" >Model</th>\n",
       "      <th id=\"T_639b1_level0_col1\" class=\"col_heading level0 col1\" >MAE</th>\n",
       "      <th id=\"T_639b1_level0_col2\" class=\"col_heading level0 col2\" >MSE</th>\n",
       "      <th id=\"T_639b1_level0_col3\" class=\"col_heading level0 col3\" >RMSE</th>\n",
       "      <th id=\"T_639b1_level0_col4\" class=\"col_heading level0 col4\" >R2</th>\n",
       "      <th id=\"T_639b1_level0_col5\" class=\"col_heading level0 col5\" >RMSLE</th>\n",
       "      <th id=\"T_639b1_level0_col6\" class=\"col_heading level0 col6\" >MAPE</th>\n",
       "      <th id=\"T_639b1_level0_col7\" class=\"col_heading level0 col7\" >TT (Sec)</th>\n",
       "    </tr>\n",
       "  </thead>\n",
       "  <tbody>\n",
       "    <tr>\n",
       "      <th id=\"T_639b1_level0_row0\" class=\"row_heading level0 row0\" >lr</th>\n",
       "      <td id=\"T_639b1_row0_col0\" class=\"data row0 col0\" >Linear Regression</td>\n",
       "      <td id=\"T_639b1_row0_col1\" class=\"data row0 col1\" >0.5961</td>\n",
       "      <td id=\"T_639b1_row0_col2\" class=\"data row0 col2\" >0.7773</td>\n",
       "      <td id=\"T_639b1_row0_col3\" class=\"data row0 col3\" >0.8817</td>\n",
       "      <td id=\"T_639b1_row0_col4\" class=\"data row0 col4\" >1.0000</td>\n",
       "      <td id=\"T_639b1_row0_col5\" class=\"data row0 col5\" >0.2698</td>\n",
       "      <td id=\"T_639b1_row0_col6\" class=\"data row0 col6\" >0.2449</td>\n",
       "      <td id=\"T_639b1_row0_col7\" class=\"data row0 col7\" >8.2710</td>\n",
       "    </tr>\n",
       "    <tr>\n",
       "      <th id=\"T_639b1_level0_row1\" class=\"row_heading level0 row1\" >lasso</th>\n",
       "      <td id=\"T_639b1_row1_col0\" class=\"data row1 col0\" >Lasso Regression</td>\n",
       "      <td id=\"T_639b1_row1_col1\" class=\"data row1 col1\" >1.0541</td>\n",
       "      <td id=\"T_639b1_row1_col2\" class=\"data row1 col2\" >2.9354</td>\n",
       "      <td id=\"T_639b1_row1_col3\" class=\"data row1 col3\" >1.7128</td>\n",
       "      <td id=\"T_639b1_row1_col4\" class=\"data row1 col4\" >1.0000</td>\n",
       "      <td id=\"T_639b1_row1_col5\" class=\"data row1 col5\" >0.3039</td>\n",
       "      <td id=\"T_639b1_row1_col6\" class=\"data row1 col6\" >0.2967</td>\n",
       "      <td id=\"T_639b1_row1_col7\" class=\"data row1 col7\" >42.1430</td>\n",
       "    </tr>\n",
       "    <tr>\n",
       "      <th id=\"T_639b1_level0_row2\" class=\"row_heading level0 row2\" >ridge</th>\n",
       "      <td id=\"T_639b1_row2_col0\" class=\"data row2 col0\" >Ridge Regression</td>\n",
       "      <td id=\"T_639b1_row2_col1\" class=\"data row2 col1\" >0.5961</td>\n",
       "      <td id=\"T_639b1_row2_col2\" class=\"data row2 col2\" >0.7773</td>\n",
       "      <td id=\"T_639b1_row2_col3\" class=\"data row2 col3\" >0.8817</td>\n",
       "      <td id=\"T_639b1_row2_col4\" class=\"data row2 col4\" >1.0000</td>\n",
       "      <td id=\"T_639b1_row2_col5\" class=\"data row2 col5\" >0.2698</td>\n",
       "      <td id=\"T_639b1_row2_col6\" class=\"data row2 col6\" >0.2449</td>\n",
       "      <td id=\"T_639b1_row2_col7\" class=\"data row2 col7\" >5.4280</td>\n",
       "    </tr>\n",
       "    <tr>\n",
       "      <th id=\"T_639b1_level0_row3\" class=\"row_heading level0 row3\" >en</th>\n",
       "      <td id=\"T_639b1_row3_col0\" class=\"data row3 col0\" >Elastic Net</td>\n",
       "      <td id=\"T_639b1_row3_col1\" class=\"data row3 col1\" >1.0557</td>\n",
       "      <td id=\"T_639b1_row3_col2\" class=\"data row3 col2\" >2.9488</td>\n",
       "      <td id=\"T_639b1_row3_col3\" class=\"data row3 col3\" >1.7168</td>\n",
       "      <td id=\"T_639b1_row3_col4\" class=\"data row3 col4\" >1.0000</td>\n",
       "      <td id=\"T_639b1_row3_col5\" class=\"data row3 col5\" >0.3041</td>\n",
       "      <td id=\"T_639b1_row3_col6\" class=\"data row3 col6\" >0.2969</td>\n",
       "      <td id=\"T_639b1_row3_col7\" class=\"data row3 col7\" >40.3720</td>\n",
       "    </tr>\n",
       "    <tr>\n",
       "      <th id=\"T_639b1_level0_row4\" class=\"row_heading level0 row4\" >lar</th>\n",
       "      <td id=\"T_639b1_row4_col0\" class=\"data row4 col0\" >Least Angle Regression</td>\n",
       "      <td id=\"T_639b1_row4_col1\" class=\"data row4 col1\" >204.2237</td>\n",
       "      <td id=\"T_639b1_row4_col2\" class=\"data row4 col2\" >796141.6000</td>\n",
       "      <td id=\"T_639b1_row4_col3\" class=\"data row4 col3\" >474.5954</td>\n",
       "      <td id=\"T_639b1_row4_col4\" class=\"data row4 col4\" >1.0000</td>\n",
       "      <td id=\"T_639b1_row4_col5\" class=\"data row4 col5\" >1.3089</td>\n",
       "      <td id=\"T_639b1_row4_col6\" class=\"data row4 col6\" >39.1111</td>\n",
       "      <td id=\"T_639b1_row4_col7\" class=\"data row4 col7\" >5.2380</td>\n",
       "    </tr>\n",
       "    <tr>\n",
       "      <th id=\"T_639b1_level0_row5\" class=\"row_heading level0 row5\" >llar</th>\n",
       "      <td id=\"T_639b1_row5_col0\" class=\"data row5 col0\" >Lasso Least Angle Regression</td>\n",
       "      <td id=\"T_639b1_row5_col1\" class=\"data row5 col1\" >0.5959</td>\n",
       "      <td id=\"T_639b1_row5_col2\" class=\"data row5 col2\" >0.7773</td>\n",
       "      <td id=\"T_639b1_row5_col3\" class=\"data row5 col3\" >0.8817</td>\n",
       "      <td id=\"T_639b1_row5_col4\" class=\"data row5 col4\" >1.0000</td>\n",
       "      <td id=\"T_639b1_row5_col5\" class=\"data row5 col5\" >0.2699</td>\n",
       "      <td id=\"T_639b1_row5_col6\" class=\"data row5 col6\" >0.2449</td>\n",
       "      <td id=\"T_639b1_row5_col7\" class=\"data row5 col7\" >5.2900</td>\n",
       "    </tr>\n",
       "    <tr>\n",
       "      <th id=\"T_639b1_level0_row6\" class=\"row_heading level0 row6\" >omp</th>\n",
       "      <td id=\"T_639b1_row6_col0\" class=\"data row6 col0\" >Orthogonal Matching Pursuit</td>\n",
       "      <td id=\"T_639b1_row6_col1\" class=\"data row6 col1\" >11022.0914</td>\n",
       "      <td id=\"T_639b1_row6_col2\" class=\"data row6 col2\" >177384917.4567</td>\n",
       "      <td id=\"T_639b1_row6_col3\" class=\"data row6 col3\" >13318.5579</td>\n",
       "      <td id=\"T_639b1_row6_col4\" class=\"data row6 col4\" >1.0000</td>\n",
       "      <td id=\"T_639b1_row6_col5\" class=\"data row6 col5\" >6.7042</td>\n",
       "      <td id=\"T_639b1_row6_col6\" class=\"data row6 col6\" >2856.8189</td>\n",
       "      <td id=\"T_639b1_row6_col7\" class=\"data row6 col7\" >5.5100</td>\n",
       "    </tr>\n",
       "    <tr>\n",
       "      <th id=\"T_639b1_level0_row7\" class=\"row_heading level0 row7\" >knn</th>\n",
       "      <td id=\"T_639b1_row7_col0\" class=\"data row7 col0\" >K Neighbors Regressor</td>\n",
       "      <td id=\"T_639b1_row7_col1\" class=\"data row7 col1\" >1156.8678</td>\n",
       "      <td id=\"T_639b1_row7_col2\" class=\"data row7 col2\" >33234381.8000</td>\n",
       "      <td id=\"T_639b1_row7_col3\" class=\"data row7 col3\" >4594.7141</td>\n",
       "      <td id=\"T_639b1_row7_col4\" class=\"data row7 col4\" >1.0000</td>\n",
       "      <td id=\"T_639b1_row7_col5\" class=\"data row7 col5\" >2.2560</td>\n",
       "      <td id=\"T_639b1_row7_col6\" class=\"data row7 col6\" >104.7954</td>\n",
       "      <td id=\"T_639b1_row7_col7\" class=\"data row7 col7\" >139.0290</td>\n",
       "    </tr>\n",
       "    <tr>\n",
       "      <th id=\"T_639b1_level0_row8\" class=\"row_heading level0 row8\" >dt</th>\n",
       "      <td id=\"T_639b1_row8_col0\" class=\"data row8 col0\" >Decision Tree Regressor</td>\n",
       "      <td id=\"T_639b1_row8_col1\" class=\"data row8 col1\" >13.1305</td>\n",
       "      <td id=\"T_639b1_row8_col2\" class=\"data row8 col2\" >83160.7853</td>\n",
       "      <td id=\"T_639b1_row8_col3\" class=\"data row8 col3\" >270.8086</td>\n",
       "      <td id=\"T_639b1_row8_col4\" class=\"data row8 col4\" >1.0000</td>\n",
       "      <td id=\"T_639b1_row8_col5\" class=\"data row8 col5\" >0.7952</td>\n",
       "      <td id=\"T_639b1_row8_col6\" class=\"data row8 col6\" >1.7258</td>\n",
       "      <td id=\"T_639b1_row8_col7\" class=\"data row8 col7\" >17.1310</td>\n",
       "    </tr>\n",
       "    <tr>\n",
       "      <th id=\"T_639b1_level0_row9\" class=\"row_heading level0 row9\" >par</th>\n",
       "      <td id=\"T_639b1_row9_col0\" class=\"data row9 col0\" >Passive Aggressive Regressor</td>\n",
       "      <td id=\"T_639b1_row9_col1\" class=\"data row9 col1\" >58965.1916</td>\n",
       "      <td id=\"T_639b1_row9_col2\" class=\"data row9 col2\" >5959836809.1409</td>\n",
       "      <td id=\"T_639b1_row9_col3\" class=\"data row9 col3\" >74264.7995</td>\n",
       "      <td id=\"T_639b1_row9_col4\" class=\"data row9 col4\" >0.9999</td>\n",
       "      <td id=\"T_639b1_row9_col5\" class=\"data row9 col5\" >8.1041</td>\n",
       "      <td id=\"T_639b1_row9_col6\" class=\"data row9 col6\" >16304.4583</td>\n",
       "      <td id=\"T_639b1_row9_col7\" class=\"data row9 col7\" >32.1670</td>\n",
       "    </tr>\n",
       "    <tr>\n",
       "      <th id=\"T_639b1_level0_row10\" class=\"row_heading level0 row10\" >huber</th>\n",
       "      <td id=\"T_639b1_row10_col0\" class=\"data row10 col0\" >Huber Regressor</td>\n",
       "      <td id=\"T_639b1_row10_col1\" class=\"data row10 col1\" >2494557.2634</td>\n",
       "      <td id=\"T_639b1_row10_col2\" class=\"data row10 col2\" >50415582117965.3438</td>\n",
       "      <td id=\"T_639b1_row10_col3\" class=\"data row10 col3\" >7100352.0510</td>\n",
       "      <td id=\"T_639b1_row10_col4\" class=\"data row10 col4\" >-0.1408</td>\n",
       "      <td id=\"T_639b1_row10_col5\" class=\"data row10 col5\" >6.4081</td>\n",
       "      <td id=\"T_639b1_row10_col6\" class=\"data row10 col6\" >0.9934</td>\n",
       "      <td id=\"T_639b1_row10_col7\" class=\"data row10 col7\" >6.3120</td>\n",
       "    </tr>\n",
       "    <tr>\n",
       "      <th id=\"T_639b1_level0_row11\" class=\"row_heading level0 row11\" >br</th>\n",
       "      <td id=\"T_639b1_row11_col0\" class=\"data row11 col0\" >Bayesian Ridge</td>\n",
       "      <td id=\"T_639b1_row11_col1\" class=\"data row11 col1\" >5986988.4998</td>\n",
       "      <td id=\"T_639b1_row11_col2\" class=\"data row11 col2\" >741106270732429.8750</td>\n",
       "      <td id=\"T_639b1_row11_col3\" class=\"data row11 col3\" >9100441.0089</td>\n",
       "      <td id=\"T_639b1_row11_col4\" class=\"data row11 col4\" >-15.8950</td>\n",
       "      <td id=\"T_639b1_row11_col5\" class=\"data row11 col5\" >2.7935</td>\n",
       "      <td id=\"T_639b1_row11_col6\" class=\"data row11 col6\" >1263079.0680</td>\n",
       "      <td id=\"T_639b1_row11_col7\" class=\"data row11 col7\" >8.2760</td>\n",
       "    </tr>\n",
       "  </tbody>\n",
       "</table>\n"
      ],
      "text/plain": [
       "<pandas.io.formats.style.Styler at 0x1e84b1c36a0>"
      ]
     },
     "metadata": {},
     "output_type": "display_data"
    },
    {
     "data": {
      "application/vnd.jupyter.widget-view+json": {
       "model_id": "78ad41b8ee3942c1ac343407bc3d0c9d",
       "version_major": 2,
       "version_minor": 0
      },
      "text/plain": [
       "Processing:   0%|          | 0/77 [00:00<?, ?it/s]"
      ]
     },
     "metadata": {},
     "output_type": "display_data"
    },
    {
     "ename": "",
     "evalue": "",
     "output_type": "error",
     "traceback": [
      "\u001b[1;31mFailed to interrupt the Kernel. \n",
      "\u001b[1;31mUnable to start Kernel 'Python 3.10.11' due to a connection timeout. \n",
      "\u001b[1;31mView Jupyter <a href='command:jupyter.viewOutput'>log</a> for further details."
     ]
    }
   ],
   "source": [
    "best = compare_models()"
   ]
  },
  {
   "cell_type": "code",
   "execution_count": 29,
   "metadata": {},
   "outputs": [
    {
     "data": {
      "text/plain": [
       "pycaret.classification.oop.ClassificationExperiment"
      ]
     },
     "execution_count": 29,
     "metadata": {},
     "output_type": "execute_result"
    }
   ],
   "source": [
    "exp.setup(data, target = 'species', session_id = 123)"
   ]
  },
  {
   "cell_type": "code",
   "execution_count": 15,
   "metadata": {},
   "outputs": [],
   "source": []
  },
  {
   "cell_type": "code",
   "execution_count": null,
   "metadata": {},
   "outputs": [],
   "source": []
  },
  {
   "cell_type": "code",
   "execution_count": 13,
   "metadata": {},
   "outputs": [],
   "source": [
    "def convert_csv_to_parquet(input_file_path, output_file_path):\n",
    "    # Read CSV file into a Pandas DataFrame\n",
    "    df = pd.read_csv(input_file_path)\n",
    "    \n",
    "    # Convert Pandas DataFrame to PyArrow Table\n",
    "    table = pa.Table.from_pandas(df)\n",
    "\n",
    "    # Write PyArrow Table to Parquet file\n",
    "    pq.write_table(table, output_file_path)\n",
    "\n",
    "# Input and output file paths\n",
    "input_file_path = 'koch1.csv'\n",
    "output_file_path = 'koch.parquet'\n",
    "\n",
    "# Call the function\n",
    "convert_csv_to_parquet(input_file_path, output_file_path)\n"
   ]
  },
  {
   "cell_type": "code",
   "execution_count": 14,
   "metadata": {},
   "outputs": [
    {
     "ename": "OSError",
     "evalue": "Could not open Parquet input source 'koch.parquet': Couldn't deserialize thrift: TProtocolException: Invalid data\n",
     "output_type": "error",
     "traceback": [
      "\u001b[1;31m---------------------------------------------------------------------------\u001b[0m",
      "\u001b[1;31mOSError\u001b[0m                                   Traceback (most recent call last)",
      "Cell \u001b[1;32mIn[14], line 7\u001b[0m\n\u001b[0;32m      4\u001b[0m parquet_file_path \u001b[38;5;241m=\u001b[39m \u001b[38;5;124m'\u001b[39m\u001b[38;5;124mkoch.parquet\u001b[39m\u001b[38;5;124m'\u001b[39m\n\u001b[0;32m      6\u001b[0m \u001b[38;5;66;03m# Load the Parquet file into a PyArrow Table\u001b[39;00m\n\u001b[1;32m----> 7\u001b[0m table \u001b[38;5;241m=\u001b[39m \u001b[43mpq\u001b[49m\u001b[38;5;241;43m.\u001b[39;49m\u001b[43mread_table\u001b[49m\u001b[43m(\u001b[49m\u001b[43mparquet_file_path\u001b[49m\u001b[43m)\u001b[49m\n\u001b[0;32m      9\u001b[0m \u001b[38;5;66;03m# Print the PyArrow Table\u001b[39;00m\n\u001b[0;32m     10\u001b[0m \u001b[38;5;28mprint\u001b[39m(table)\n",
      "File \u001b[1;32m~\\AppData\\Local\\Packages\\PythonSoftwareFoundation.Python.3.10_qbz5n2kfra8p0\\LocalCache\\local-packages\\Python310\\site-packages\\pyarrow\\parquet\\core.py:2926\u001b[0m, in \u001b[0;36mread_table\u001b[1;34m(source, columns, use_threads, metadata, schema, use_pandas_metadata, read_dictionary, memory_map, buffer_size, partitioning, filesystem, filters, use_legacy_dataset, ignore_prefixes, pre_buffer, coerce_int96_timestamp_unit, decryption_properties, thrift_string_size_limit, thrift_container_size_limit)\u001b[0m\n\u001b[0;32m   2919\u001b[0m     \u001b[38;5;28;01mraise\u001b[39;00m \u001b[38;5;167;01mValueError\u001b[39;00m(\n\u001b[0;32m   2920\u001b[0m         \u001b[38;5;124m\"\u001b[39m\u001b[38;5;124mThe \u001b[39m\u001b[38;5;124m'\u001b[39m\u001b[38;5;124mmetadata\u001b[39m\u001b[38;5;124m'\u001b[39m\u001b[38;5;124m keyword is no longer supported with the new \u001b[39m\u001b[38;5;124m\"\u001b[39m\n\u001b[0;32m   2921\u001b[0m         \u001b[38;5;124m\"\u001b[39m\u001b[38;5;124mdatasets-based implementation. Specify \u001b[39m\u001b[38;5;124m\"\u001b[39m\n\u001b[0;32m   2922\u001b[0m         \u001b[38;5;124m\"\u001b[39m\u001b[38;5;124m'\u001b[39m\u001b[38;5;124muse_legacy_dataset=True\u001b[39m\u001b[38;5;124m'\u001b[39m\u001b[38;5;124m to temporarily recover the old \u001b[39m\u001b[38;5;124m\"\u001b[39m\n\u001b[0;32m   2923\u001b[0m         \u001b[38;5;124m\"\u001b[39m\u001b[38;5;124mbehaviour.\u001b[39m\u001b[38;5;124m\"\u001b[39m\n\u001b[0;32m   2924\u001b[0m     )\n\u001b[0;32m   2925\u001b[0m \u001b[38;5;28;01mtry\u001b[39;00m:\n\u001b[1;32m-> 2926\u001b[0m     dataset \u001b[38;5;241m=\u001b[39m \u001b[43m_ParquetDatasetV2\u001b[49m\u001b[43m(\u001b[49m\n\u001b[0;32m   2927\u001b[0m \u001b[43m        \u001b[49m\u001b[43msource\u001b[49m\u001b[43m,\u001b[49m\n\u001b[0;32m   2928\u001b[0m \u001b[43m        \u001b[49m\u001b[43mschema\u001b[49m\u001b[38;5;241;43m=\u001b[39;49m\u001b[43mschema\u001b[49m\u001b[43m,\u001b[49m\n\u001b[0;32m   2929\u001b[0m \u001b[43m        \u001b[49m\u001b[43mfilesystem\u001b[49m\u001b[38;5;241;43m=\u001b[39;49m\u001b[43mfilesystem\u001b[49m\u001b[43m,\u001b[49m\n\u001b[0;32m   2930\u001b[0m \u001b[43m        \u001b[49m\u001b[43mpartitioning\u001b[49m\u001b[38;5;241;43m=\u001b[39;49m\u001b[43mpartitioning\u001b[49m\u001b[43m,\u001b[49m\n\u001b[0;32m   2931\u001b[0m \u001b[43m        \u001b[49m\u001b[43mmemory_map\u001b[49m\u001b[38;5;241;43m=\u001b[39;49m\u001b[43mmemory_map\u001b[49m\u001b[43m,\u001b[49m\n\u001b[0;32m   2932\u001b[0m \u001b[43m        \u001b[49m\u001b[43mread_dictionary\u001b[49m\u001b[38;5;241;43m=\u001b[39;49m\u001b[43mread_dictionary\u001b[49m\u001b[43m,\u001b[49m\n\u001b[0;32m   2933\u001b[0m \u001b[43m        \u001b[49m\u001b[43mbuffer_size\u001b[49m\u001b[38;5;241;43m=\u001b[39;49m\u001b[43mbuffer_size\u001b[49m\u001b[43m,\u001b[49m\n\u001b[0;32m   2934\u001b[0m \u001b[43m        \u001b[49m\u001b[43mfilters\u001b[49m\u001b[38;5;241;43m=\u001b[39;49m\u001b[43mfilters\u001b[49m\u001b[43m,\u001b[49m\n\u001b[0;32m   2935\u001b[0m \u001b[43m        \u001b[49m\u001b[43mignore_prefixes\u001b[49m\u001b[38;5;241;43m=\u001b[39;49m\u001b[43mignore_prefixes\u001b[49m\u001b[43m,\u001b[49m\n\u001b[0;32m   2936\u001b[0m \u001b[43m        \u001b[49m\u001b[43mpre_buffer\u001b[49m\u001b[38;5;241;43m=\u001b[39;49m\u001b[43mpre_buffer\u001b[49m\u001b[43m,\u001b[49m\n\u001b[0;32m   2937\u001b[0m \u001b[43m        \u001b[49m\u001b[43mcoerce_int96_timestamp_unit\u001b[49m\u001b[38;5;241;43m=\u001b[39;49m\u001b[43mcoerce_int96_timestamp_unit\u001b[49m\u001b[43m,\u001b[49m\n\u001b[0;32m   2938\u001b[0m \u001b[43m        \u001b[49m\u001b[43mthrift_string_size_limit\u001b[49m\u001b[38;5;241;43m=\u001b[39;49m\u001b[43mthrift_string_size_limit\u001b[49m\u001b[43m,\u001b[49m\n\u001b[0;32m   2939\u001b[0m \u001b[43m        \u001b[49m\u001b[43mthrift_container_size_limit\u001b[49m\u001b[38;5;241;43m=\u001b[39;49m\u001b[43mthrift_container_size_limit\u001b[49m\u001b[43m,\u001b[49m\n\u001b[0;32m   2940\u001b[0m \u001b[43m    \u001b[49m\u001b[43m)\u001b[49m\n\u001b[0;32m   2941\u001b[0m \u001b[38;5;28;01mexcept\u001b[39;00m \u001b[38;5;167;01mImportError\u001b[39;00m:\n\u001b[0;32m   2942\u001b[0m     \u001b[38;5;66;03m# fall back on ParquetFile for simple cases when pyarrow.dataset\u001b[39;00m\n\u001b[0;32m   2943\u001b[0m     \u001b[38;5;66;03m# module is not available\u001b[39;00m\n\u001b[0;32m   2944\u001b[0m     \u001b[38;5;28;01mif\u001b[39;00m filters \u001b[38;5;129;01mis\u001b[39;00m \u001b[38;5;129;01mnot\u001b[39;00m \u001b[38;5;28;01mNone\u001b[39;00m:\n",
      "File \u001b[1;32m~\\AppData\\Local\\Packages\\PythonSoftwareFoundation.Python.3.10_qbz5n2kfra8p0\\LocalCache\\local-packages\\Python310\\site-packages\\pyarrow\\parquet\\core.py:2466\u001b[0m, in \u001b[0;36m_ParquetDatasetV2.__init__\u001b[1;34m(self, path_or_paths, filesystem, filters, partitioning, read_dictionary, buffer_size, memory_map, ignore_prefixes, pre_buffer, coerce_int96_timestamp_unit, schema, decryption_properties, thrift_string_size_limit, thrift_container_size_limit, **kwargs)\u001b[0m\n\u001b[0;32m   2462\u001b[0m \u001b[38;5;28;01mif\u001b[39;00m single_file \u001b[38;5;129;01mis\u001b[39;00m \u001b[38;5;129;01mnot\u001b[39;00m \u001b[38;5;28;01mNone\u001b[39;00m:\n\u001b[0;32m   2463\u001b[0m     fragment \u001b[38;5;241m=\u001b[39m parquet_format\u001b[38;5;241m.\u001b[39mmake_fragment(single_file, filesystem)\n\u001b[0;32m   2465\u001b[0m     \u001b[38;5;28mself\u001b[39m\u001b[38;5;241m.\u001b[39m_dataset \u001b[38;5;241m=\u001b[39m ds\u001b[38;5;241m.\u001b[39mFileSystemDataset(\n\u001b[1;32m-> 2466\u001b[0m         [fragment], schema\u001b[38;5;241m=\u001b[39mschema \u001b[38;5;129;01mor\u001b[39;00m \u001b[43mfragment\u001b[49m\u001b[38;5;241;43m.\u001b[39;49m\u001b[43mphysical_schema\u001b[49m,\n\u001b[0;32m   2467\u001b[0m         \u001b[38;5;28mformat\u001b[39m\u001b[38;5;241m=\u001b[39mparquet_format,\n\u001b[0;32m   2468\u001b[0m         filesystem\u001b[38;5;241m=\u001b[39mfragment\u001b[38;5;241m.\u001b[39mfilesystem\n\u001b[0;32m   2469\u001b[0m     )\n\u001b[0;32m   2470\u001b[0m     \u001b[38;5;28;01mreturn\u001b[39;00m\n\u001b[0;32m   2472\u001b[0m \u001b[38;5;66;03m# check partitioning to enable dictionary encoding\u001b[39;00m\n",
      "File \u001b[1;32m~\\AppData\\Local\\Packages\\PythonSoftwareFoundation.Python.3.10_qbz5n2kfra8p0\\LocalCache\\local-packages\\Python310\\site-packages\\pyarrow\\_dataset.pyx:1004\u001b[0m, in \u001b[0;36mpyarrow._dataset.Fragment.physical_schema.__get__\u001b[1;34m()\u001b[0m\n",
      "File \u001b[1;32m~\\AppData\\Local\\Packages\\PythonSoftwareFoundation.Python.3.10_qbz5n2kfra8p0\\LocalCache\\local-packages\\Python310\\site-packages\\pyarrow\\error.pxi:144\u001b[0m, in \u001b[0;36mpyarrow.lib.pyarrow_internal_check_status\u001b[1;34m()\u001b[0m\n",
      "File \u001b[1;32m~\\AppData\\Local\\Packages\\PythonSoftwareFoundation.Python.3.10_qbz5n2kfra8p0\\LocalCache\\local-packages\\Python310\\site-packages\\pyarrow\\error.pxi:115\u001b[0m, in \u001b[0;36mpyarrow.lib.check_status\u001b[1;34m()\u001b[0m\n",
      "\u001b[1;31mOSError\u001b[0m: Could not open Parquet input source 'koch.parquet': Couldn't deserialize thrift: TProtocolException: Invalid data\n"
     ]
    }
   ],
   "source": [
    "import pyarrow.parquet as pq\n",
    "\n",
    "# Path to your Parquet file\n",
    "parquet_file_path = 'koch.parquet'\n",
    "\n",
    "# Load the Parquet file into a PyArrow Table\n",
    "table = pq.read_table(parquet_file_path)\n",
    "\n",
    "# Print the PyArrow Table\n",
    "print(table)\n"
   ]
  }
 ],
 "metadata": {
  "kernelspec": {
   "display_name": "Python 3",
   "language": "python",
   "name": "python3"
  },
  "language_info": {
   "codemirror_mode": {
    "name": "ipython",
    "version": 3
   },
   "file_extension": ".py",
   "mimetype": "text/x-python",
   "name": "python",
   "nbconvert_exporter": "python",
   "pygments_lexer": "ipython3",
   "version": "3.10.11"
  }
 },
 "nbformat": 4,
 "nbformat_minor": 2
}
